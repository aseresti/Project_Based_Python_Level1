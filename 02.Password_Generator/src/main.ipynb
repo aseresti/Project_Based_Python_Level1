{
 "cells": [
  {
   "cell_type": "code",
   "execution_count": 2,
   "metadata": {},
   "outputs": [],
   "source": [
    "from abc import ABC, abstractmethod\n",
    "\n",
    "class PasswordGenerator(ABC):\n",
    "    \"\"\"\n",
    "    Base class for password generation\n",
    "    \"\"\"\n",
    "    @abstractmethod\n",
    "    def generate(self) -> str:\n",
    "        \"\"\"Override this method to generate password\n",
    "\n",
    "        :rtype: str\n",
    "        \"\"\"\n",
    "        pass\n"
   ]
  },
  {
   "cell_type": "code",
   "execution_count": 42,
   "metadata": {},
   "outputs": [],
   "source": [
    "import random\n",
    "import string\n",
    "\n",
    "class RandomPasswordGenerator(PasswordGenerator):\n",
    "    \"\"\"\n",
    "    class to generate random password\n",
    "    \"\"\"\n",
    "    def __init__(self, length: int = 8, include_numbers: bool = False, include_symbols: bool = False):\n",
    "        self.length = length\n",
    "        self.characters = string.ascii_letters\n",
    "        if include_numbers:\n",
    "            self.characters += string.digits\n",
    "        if include_symbols:\n",
    "            self.characters += string.punctuation\n",
    "\n",
    "    def generate(self) -> str:\n",
    "        \"\"\"Main method of generating the password\n",
    "\n",
    "        :return: Password\n",
    "        :rtype: str\n",
    "        \"\"\"\n",
    "        return ''.join(random.choice(self.characters) for _ in range(self.length))"
   ]
  },
  {
   "cell_type": "code",
   "execution_count": 60,
   "metadata": {},
   "outputs": [
    {
     "data": {
      "text/plain": [
       "'?$sEwZ=d'"
      ]
     },
     "execution_count": 60,
     "metadata": {},
     "output_type": "execute_result"
    }
   ],
   "source": [
    "RandPass = RandomPasswordGenerator(8,True, True)\n",
    "RandPass.generate()"
   ]
  },
  {
   "cell_type": "code",
   "execution_count": 19,
   "metadata": {},
   "outputs": [
    {
     "name": "stdout",
     "output_type": "stream",
     "text": [
      "0123456789\n"
     ]
    }
   ],
   "source": [
    "print(string.digits)"
   ]
  },
  {
   "cell_type": "code",
   "execution_count": 17,
   "metadata": {},
   "outputs": [
    {
     "name": "stdout",
     "output_type": "stream",
     "text": [
      "!\"#$%&'()*+,-./:;<=>?@[\\]^_`{|}~\n"
     ]
    }
   ],
   "source": [
    "print(string.punctuation)"
   ]
  },
  {
   "cell_type": "code",
   "execution_count": 61,
   "metadata": {},
   "outputs": [
    {
     "name": "stderr",
     "output_type": "stream",
     "text": [
      "[nltk_data] Downloading package words to /Users/ana/nltk_data...\n",
      "[nltk_data]   Unzipping corpora/words.zip.\n"
     ]
    },
    {
     "data": {
      "text/plain": [
       "True"
      ]
     },
     "execution_count": 61,
     "metadata": {},
     "output_type": "execute_result"
    }
   ],
   "source": [
    "import nltk\n",
    "\n",
    "nltk.download('words')"
   ]
  },
  {
   "cell_type": "code",
   "execution_count": 92,
   "metadata": {},
   "outputs": [
    {
     "name": "stdout",
     "output_type": "stream",
     "text": [
      "Jezebelish\n"
     ]
    }
   ],
   "source": [
    "print(nltk.corpus.words.words()[100000])"
   ]
  },
  {
   "cell_type": "code",
   "execution_count": 168,
   "metadata": {},
   "outputs": [],
   "source": [
    "from typing import Optional, List\n",
    "\n",
    "class MemorablePasswordGenerator(PasswordGenerator):\n",
    "    \"\"\"\n",
    "    class to generate memorable random password\n",
    "    \"\"\"\n",
    "    def __init__(\n",
    "        self,\n",
    "        no_of_words: int = 4,\n",
    "        seperator: str = \"-\",\n",
    "        capitalize: bool = False,\n",
    "        Vocabulary: Optional[List[str]] = None\n",
    "        ):\n",
    "\n",
    "        self.no_of_words: int = no_of_words\n",
    "        self.seperator: str = seperator\n",
    "        self.capitalize: bool = capitalize\n",
    "        self.Vocabulary: List[str] = Vocabulary\n",
    "\n",
    "        if Vocabulary is None:\n",
    "            self.Vocabulary = nltk.corpus.words.words()\n",
    "        \n",
    "    def generate(self) -> str:\n",
    "        \"\"\"\n",
    "        Generates a password from a list pf Vocabularies\n",
    "        \"\"\"\n",
    "        password_words = [random.choice(self.Vocabulary) for _ in range(self.no_of_words)]\n",
    "\n",
    "        if self.capitalize:\n",
    "            password_words = [word.upper() if random.choice([True,False]) else word.lower() for word in password_words]\n",
    "        \n",
    "        return self.seperator.join(password_words)"
   ]
  },
  {
   "cell_type": "code",
   "execution_count": 172,
   "metadata": {},
   "outputs": [
    {
     "data": {
      "text/plain": [
       "'FROLICKER-scolopendrelloid-subtunic-INTERROAD'"
      ]
     },
     "execution_count": 172,
     "metadata": {},
     "output_type": "execute_result"
    }
   ],
   "source": [
    "password = MemorablePasswordGenerator(capitalize=True)\n",
    "password.generate()"
   ]
  },
  {
   "cell_type": "code",
   "execution_count": 143,
   "metadata": {},
   "outputs": [
    {
     "data": {
      "text/plain": [
       "'librarybookpurpleflower'"
      ]
     },
     "execution_count": 143,
     "metadata": {},
     "output_type": "execute_result"
    }
   ],
   "source": [
    "words = ['library', 'book', 'purple', 'flower']\n",
    "''.join(words)"
   ]
  },
  {
   "cell_type": "code",
   "execution_count": 145,
   "metadata": {},
   "outputs": [
    {
     "name": "stdout",
     "output_type": "stream",
     "text": [
      "['__add__', '__class__', '__class_getitem__', '__contains__', '__delattr__', '__delitem__', '__dir__', '__doc__', '__eq__', '__format__', '__ge__', '__getattribute__', '__getitem__', '__gt__', '__hash__', '__iadd__', '__imul__', '__init__', '__init_subclass__', '__iter__', '__le__', '__len__', '__lt__', '__mul__', '__ne__', '__new__', '__reduce__', '__reduce_ex__', '__repr__', '__reversed__', '__rmul__', '__setattr__', '__setitem__', '__sizeof__', '__str__', '__subclasshook__', 'append', 'clear', 'copy', 'count', 'extend', 'index', 'insert', 'pop', 'remove', 'reverse', 'sort']\n"
     ]
    }
   ],
   "source": [
    "print(dir(words))"
   ]
  },
  {
   "cell_type": "code",
   "execution_count": 146,
   "metadata": {},
   "outputs": [
    {
     "data": {
      "text/plain": [
       "['library', 'purple', 'flower']"
      ]
     },
     "execution_count": 146,
     "metadata": {},
     "output_type": "execute_result"
    }
   ],
   "source": [
    "words.remove('book')\n",
    "words"
   ]
  },
  {
   "cell_type": "code",
   "execution_count": 71,
   "metadata": {},
   "outputs": [
    {
     "data": {
      "text/plain": [
       "'library-book-purple-flower'"
      ]
     },
     "execution_count": 71,
     "metadata": {},
     "output_type": "execute_result"
    }
   ],
   "source": [
    "'-'.join(words)"
   ]
  },
  {
   "cell_type": "code",
   "execution_count": 78,
   "metadata": {},
   "outputs": [
    {
     "name": "stdout",
     "output_type": "stream",
     "text": [
      "-\n"
     ]
    }
   ],
   "source": [
    "print('-')"
   ]
  },
  {
   "cell_type": "code",
   "execution_count": 79,
   "metadata": {},
   "outputs": [
    {
     "data": {
      "text/plain": [
       "str"
      ]
     },
     "execution_count": 79,
     "metadata": {},
     "output_type": "execute_result"
    }
   ],
   "source": [
    "type('-')"
   ]
  },
  {
   "cell_type": "code",
   "execution_count": 105,
   "metadata": {},
   "outputs": [],
   "source": [
    "class PinCodeGenerator(PasswordGenerator):\n",
    "    \"\"\"\n",
    "    class to generate pin code\n",
    "    \"\"\"\n",
    "    def __init__(self, length: int = 4):\n",
    "        self.length = length\n",
    "\n",
    "    def generate(self):\n",
    "        \"\"\"\n",
    "        generates a pin code with given length\n",
    "        \"\"\"\n",
    "        return ''.join(random.choice(string.digits) for _ in range(self.length))\n"
   ]
  },
  {
   "cell_type": "code",
   "execution_count": 106,
   "metadata": {},
   "outputs": [
    {
     "data": {
      "text/plain": [
       "'3110'"
      ]
     },
     "execution_count": 106,
     "metadata": {},
     "output_type": "execute_result"
    }
   ],
   "source": [
    "pincode = PinCodeGenerator()\n",
    "pincode.generate()"
   ]
  },
  {
   "cell_type": "code",
   "execution_count": 174,
   "metadata": {},
   "outputs": [],
   "source": [
    "def main():\n",
    "    print('--- test random password generator. The password is:')\n",
    "    RandPass = RandomPasswordGenerator(16, True, True)\n",
    "    print(RandPass.generate())\n",
    "    print('--- test memorable password generator. The password is:')\n",
    "    password = MemorablePasswordGenerator(no_of_words = 5, seperator = \"+\", capitalize = True)\n",
    "    print(password.generate())\n",
    "    print('--- test pin code generator. The password is:')\n",
    "    pincode = PinCodeGenerator(length=6)\n",
    "    print(pincode.generate())"
   ]
  },
  {
   "cell_type": "code",
   "execution_count": 175,
   "metadata": {},
   "outputs": [
    {
     "name": "stdout",
     "output_type": "stream",
     "text": [
      "--- test random password generator. The password is:\n",
      "4pm;Jh]j7LlzqH#(\n",
      "--- test memorable password generator. The password is:\n",
      "pleurotremata+fewterer+EMBIOTOCIDAE+sulafat+fiscalize\n",
      "--- test pin code generator. The password is:\n",
      "614450\n"
     ]
    }
   ],
   "source": [
    "main()"
   ]
  },
  {
   "cell_type": "code",
   "execution_count": 124,
   "metadata": {},
   "outputs": [
    {
     "data": {
      "text/plain": [
       "'HAMED'"
      ]
     },
     "execution_count": 124,
     "metadata": {},
     "output_type": "execute_result"
    }
   ],
   "source": [
    "'hamed'.upper()"
   ]
  },
  {
   "cell_type": "code",
   "execution_count": null,
   "metadata": {},
   "outputs": [],
   "source": []
  },
  {
   "cell_type": "code",
   "execution_count": null,
   "metadata": {},
   "outputs": [],
   "source": []
  }
 ],
 "metadata": {
  "kernelspec": {
   "display_name": "Python 3",
   "language": "python",
   "name": "python3"
  },
  "language_info": {
   "codemirror_mode": {
    "name": "ipython",
    "version": 3
   },
   "file_extension": ".py",
   "mimetype": "text/x-python",
   "name": "python",
   "nbconvert_exporter": "python",
   "pygments_lexer": "ipython3",
   "version": "3.10.13"
  },
  "orig_nbformat": 4
 },
 "nbformat": 4,
 "nbformat_minor": 2
}
