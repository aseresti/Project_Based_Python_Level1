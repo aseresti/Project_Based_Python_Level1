{
 "cells": [
  {
   "cell_type": "code",
   "execution_count": 25,
   "metadata": {},
   "outputs": [],
   "source": [
    "choices = [\"rock\", \"paper\", \"scissor\"]\n",
    "\n",
    "import random\n",
    "\n",
    "def get_computer_choice():\n",
    "    return random.choice(choices)"
   ]
  },
  {
   "cell_type": "code",
   "execution_count": 30,
   "metadata": {},
   "outputs": [
    {
     "data": {
      "text/plain": [
       "'scissor'"
      ]
     },
     "execution_count": 30,
     "metadata": {},
     "output_type": "execute_result"
    }
   ],
   "source": [
    "get_computer_choice()"
   ]
  },
  {
   "cell_type": "code",
   "execution_count": 31,
   "metadata": {},
   "outputs": [],
   "source": [
    "def get_user_choice():\n",
    "    user_choice = input(f'Enter your choice:({[ch for ch in choices]})')\n",
    "    if user_choice.lower() in choices:\n",
    "        return user_choice.lower()\n",
    "    else:\n",
    "        print(\"Input is not valid\")\n",
    "        return get_user_choice()"
   ]
  },
  {
   "cell_type": "code",
   "execution_count": 32,
   "metadata": {},
   "outputs": [],
   "source": [
    "c = get_user_choice()"
   ]
  },
  {
   "cell_type": "code",
   "execution_count": 38,
   "metadata": {},
   "outputs": [],
   "source": [
    "def select_winner():\n",
    "    user_choice = get_user_choice()\n",
    "    computer_choice = get_computer_choice()\n",
    "    print(f\"computer choice is: {computer_choice}\")\n",
    "    win_situation = {'rock':'scissor','scissor':'paper','paper':'rock'}\n",
    "    if computer_choice == win_situation[user_choice]:\n",
    "        print(\"Congratulations! You won\")\n",
    "    elif user_choice == computer_choice:\n",
    "        print(\"It's a tie\")\n",
    "    else:\n",
    "        print(\"You Lost\")"
   ]
  },
  {
   "cell_type": "code",
   "execution_count": 39,
   "metadata": {},
   "outputs": [
    {
     "name": "stdout",
     "output_type": "stream",
     "text": [
      "Input is not valid\n",
      "Input is not valid\n",
      "Input is not valid\n",
      "Input is not valid\n",
      "Input is not valid\n",
      "Input is not valid\n",
      "Input is not valid\n",
      "Input is not valid\n",
      "Input is not valid\n",
      "Input is not valid\n",
      "Input is not valid\n",
      "Input is not valid\n",
      "computer choice is: scissor\n",
      "Congratulations! You won\n"
     ]
    }
   ],
   "source": [
    "select_winner()"
   ]
  },
  {
   "cell_type": "code",
   "execution_count": 40,
   "metadata": {},
   "outputs": [],
   "source": [
    "def play_game():\n",
    "    select_winner()\n",
    "    play_again = input('press any key to play again or q to exit')\n",
    "    if play_again == 'q':\n",
    "        return None\n",
    "    else:\n",
    "        return play_game()"
   ]
  },
  {
   "cell_type": "code",
   "execution_count": 43,
   "metadata": {},
   "outputs": [
    {
     "name": "stdout",
     "output_type": "stream",
     "text": [
      "computer choice is: rock\n",
      "It's a tie\n",
      "computer choice is: scissor\n",
      "Congratulations! You won\n",
      "computer choice is: paper\n",
      "Congratulations! You won\n",
      "computer choice is: paper\n",
      "It's a tie\n",
      "computer choice is: scissor\n",
      "You Lost\n",
      "computer choice is: scissor\n",
      "It's a tie\n"
     ]
    }
   ],
   "source": [
    "play_game()"
   ]
  }
 ],
 "metadata": {
  "kernelspec": {
   "display_name": "py38",
   "language": "python",
   "name": "python3"
  },
  "language_info": {
   "codemirror_mode": {
    "name": "ipython",
    "version": 3
   },
   "file_extension": ".py",
   "mimetype": "text/x-python",
   "name": "python",
   "nbconvert_exporter": "python",
   "pygments_lexer": "ipython3",
   "version": "3.8.18"
  },
  "orig_nbformat": 4
 },
 "nbformat": 4,
 "nbformat_minor": 2
}
