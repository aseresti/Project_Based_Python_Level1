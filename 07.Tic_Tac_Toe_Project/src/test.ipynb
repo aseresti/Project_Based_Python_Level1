{
 "cells": [
  {
   "cell_type": "markdown",
   "metadata": {},
   "source": [
    "TicTacToe class:\n",
    "- [x] __init__\n",
    "- [] get_random_first_player\n",
    "- [x] fix_spot: mark board\n",
    "- [x] has_player_won(self,player)\n",
    "- [x] is_board_fill\n",
    "- [x] swap_player_turn\n",
    "- [x] show_board\n"
   ]
  },
  {
   "cell_type": "code",
   "execution_count": 1,
   "metadata": {},
   "outputs": [],
   "source": [
    "def init():\n",
    "    board = [' ']*10 #0th index is ignored\n",
    "    "
   ]
  },
  {
   "cell_type": "code",
   "execution_count": 41,
   "metadata": {},
   "outputs": [],
   "source": [
    "import random\n",
    "\n",
    "class TicTacToe():\n",
    "    def __init__(self):\n",
    "        self.board = [' ']*10 #0th index is ignored.\n",
    "        self.initial_board = list(map(str, range(10)))\n",
    "        self.player_turn = self.get_random_first_player()\n",
    "\n",
    "\n",
    "    def show_empty_board(self):\n",
    "        print(\"\\n\")\n",
    "        print(self.initial_board[1] + '|' + self.initial_board[2] + '|' + self.initial_board[3])\n",
    "        print('-'*6)\n",
    "        print(self.initial_board[4] + '|' + self.initial_board[5] + '|' + self.initial_board[6])\n",
    "        print('-'*6)\n",
    "        print(self.initial_board[7] + '|' + self.initial_board[8] + '|' + self.initial_board[9])\n",
    "\n",
    "    def show_board(self):\n",
    "        print(\"\\n\")\n",
    "        print(self.board[1] + '|' + self.board[2] + '|' + self.board[3])\n",
    "        print('-'*6)\n",
    "        print(self.board[4] + '|' + self.board[5] + '|' + self.board[6])\n",
    "        print('-'*6)\n",
    "        print(self.board[7] + '|' + self.board[8] + '|' + self.board[9])\n",
    "\n",
    "    def swap_player_turn(self):\n",
    "        self.player_turn = 'x' if self.player_turn == 'o' else 'o'\n",
    "\n",
    "    \n",
    "    def is_board_filled(self):\n",
    "        return '' not in self.board[1:]\n",
    "    \n",
    "    def fix_spot(self,cell):\n",
    "        self.board[cell] = self.player_turn\n",
    "\n",
    "    def has_player_won(self,player):\n",
    "        win_combinations = [\n",
    "            [1,2,3], [4,5,6], [7,8,9], # rows\n",
    "            [1,4,7], [2,5,8], [3,6,9], #columns\n",
    "            [1,5,9], [3,5,7] #diagonals\n",
    "        ]\n",
    "        return all(self.board[comb[i]] == player for i in range(3) for comb in win_combinations)\n",
    "    \n",
    "    def get_random_first_player(self):\n",
    "        self.player_turn = random.choice(['x', 'o'])\n",
    "    \n",
    "    def play_game(self):\n",
    "        print(\"welcome to the game!\")\n",
    "        print(\"You can choose any number from the following board to fix your player's spot\")\n",
    "        self.show_empty_board()\n",
    "        while self.is_board_filled():\n",
    "            print(self.player_turn)\n",
    "            cell = int(input(\"input the cell number: \"))\n",
    "            self.fix_spot(cell)\n",
    "            self.show_board()\n",
    "            if self.has_player_won(self.player_turn):\n",
    "                print(f'{self.player_turn} has won!')\n",
    "                break\n",
    "            self.swap_player_turn()"
   ]
  },
  {
   "cell_type": "code",
   "execution_count": 42,
   "metadata": {},
   "outputs": [],
   "source": [
    "game = TicTacToe()\n",
    "game.player_turn"
   ]
  },
  {
   "cell_type": "markdown",
   "metadata": {},
   "source": []
  },
  {
   "cell_type": "code",
   "execution_count": 43,
   "metadata": {},
   "outputs": [
    {
     "name": "stdout",
     "output_type": "stream",
     "text": [
      "\n",
      "\n",
      " | | \n",
      "------\n",
      " | | \n",
      "------\n",
      " | | \n"
     ]
    }
   ],
   "source": [
    "game.show_board()"
   ]
  },
  {
   "cell_type": "code",
   "execution_count": 44,
   "metadata": {},
   "outputs": [],
   "source": [
    "game.player_turn"
   ]
  },
  {
   "cell_type": "code",
   "execution_count": 45,
   "metadata": {},
   "outputs": [],
   "source": [
    "game.swap_player_turn()\n"
   ]
  },
  {
   "cell_type": "code",
   "execution_count": 46,
   "metadata": {},
   "outputs": [
    {
     "name": "stdout",
     "output_type": "stream",
     "text": [
      "welcome to the game!\n",
      "You can choose any number from the following board to fix your player's spot\n",
      "\n",
      "\n",
      "1|2|3\n",
      "------\n",
      "4|5|6\n",
      "------\n",
      "7|8|9\n",
      "o\n",
      "\n",
      "\n",
      "o| | \n",
      "------\n",
      " | | \n",
      "------\n",
      " | | \n",
      "x\n",
      "\n",
      "\n",
      "o|x| \n",
      "------\n",
      " | | \n",
      "------\n",
      " | | \n",
      "o\n",
      "\n",
      "\n",
      "o|x| \n",
      "------\n",
      "o| | \n",
      "------\n",
      " | | \n",
      "x\n",
      "\n",
      "\n",
      "o|x| \n",
      "------\n",
      "x| | \n",
      "------\n",
      " | | \n",
      "o\n",
      "\n",
      "\n",
      "o|x|o\n",
      "------\n",
      "x| | \n",
      "------\n",
      " | | \n",
      "x\n",
      "\n",
      "\n",
      "o|x|o\n",
      "------\n",
      "x| | \n",
      "------\n",
      " | | \n",
      "o\n",
      "\n",
      "\n",
      "o|x|o\n",
      "------\n",
      "o| | \n",
      "------\n",
      " | | \n",
      "x\n",
      "\n",
      "\n",
      "o|x|o\n",
      "------\n",
      "o| | \n",
      "------\n",
      "x| | \n",
      "o\n",
      "\n",
      "\n",
      "o|x|o\n",
      "------\n",
      "o| | \n",
      "------\n",
      "o| | \n",
      "x\n",
      "\n",
      "\n",
      "o|x|o\n",
      "------\n",
      "o|x| \n",
      "------\n",
      "o| | \n",
      "o\n",
      "\n",
      "\n",
      "o|x|o\n",
      "------\n",
      "o|x|o\n",
      "------\n",
      "o| | \n",
      "x\n",
      "\n",
      "\n",
      "o|x|o\n",
      "------\n",
      "o|x|o\n",
      "------\n",
      "o|x| \n",
      "o\n",
      "\n",
      "\n",
      "o|x|o\n",
      "------\n",
      "o|x|o\n",
      "------\n",
      "o|x|o\n",
      "x\n"
     ]
    },
    {
     "ename": "ValueError",
     "evalue": "invalid literal for int() with base 10: ''",
     "output_type": "error",
     "traceback": [
      "\u001b[0;31m---------------------------------------------------------------------------\u001b[0m",
      "\u001b[0;31mValueError\u001b[0m                                Traceback (most recent call last)",
      "Cell \u001b[0;32mIn[46], line 1\u001b[0m\n\u001b[0;32m----> 1\u001b[0m \u001b[43mgame\u001b[49m\u001b[38;5;241;43m.\u001b[39;49m\u001b[43mplay_game\u001b[49m\u001b[43m(\u001b[49m\u001b[43m)\u001b[49m\n",
      "Cell \u001b[0;32mIn[41], line 53\u001b[0m, in \u001b[0;36mTicTacToe.play_game\u001b[0;34m(self)\u001b[0m\n\u001b[1;32m     51\u001b[0m \u001b[38;5;28;01mwhile\u001b[39;00m \u001b[38;5;28mself\u001b[39m\u001b[38;5;241m.\u001b[39mis_board_filled():\n\u001b[1;32m     52\u001b[0m     \u001b[38;5;28mprint\u001b[39m(\u001b[38;5;28mself\u001b[39m\u001b[38;5;241m.\u001b[39mplayer_turn)\n\u001b[0;32m---> 53\u001b[0m     cell \u001b[38;5;241m=\u001b[39m \u001b[38;5;28;43mint\u001b[39;49m\u001b[43m(\u001b[49m\u001b[38;5;28;43minput\u001b[39;49m\u001b[43m(\u001b[49m\u001b[38;5;124;43m\"\u001b[39;49m\u001b[38;5;124;43minput the cell number: \u001b[39;49m\u001b[38;5;124;43m\"\u001b[39;49m\u001b[43m)\u001b[49m\u001b[43m)\u001b[49m\n\u001b[1;32m     54\u001b[0m     \u001b[38;5;28mself\u001b[39m\u001b[38;5;241m.\u001b[39mfix_spot(cell)\n\u001b[1;32m     55\u001b[0m     \u001b[38;5;28mself\u001b[39m\u001b[38;5;241m.\u001b[39mshow_board()\n",
      "\u001b[0;31mValueError\u001b[0m: invalid literal for int() with base 10: ''"
     ]
    }
   ],
   "source": [
    "game.play_game()"
   ]
  },
  {
   "cell_type": "code",
   "execution_count": 47,
   "metadata": {},
   "outputs": [
    {
     "name": "stdout",
     "output_type": "stream",
     "text": [
      "\n",
      "\n",
      "o|x|o\n",
      "------\n",
      "o|x|o\n",
      "------\n",
      "o|x|o\n"
     ]
    }
   ],
   "source": [
    "game.show_board()"
   ]
  },
  {
   "cell_type": "code",
   "execution_count": 48,
   "metadata": {},
   "outputs": [
    {
     "data": {
      "text/plain": [
       "True"
      ]
     },
     "execution_count": 48,
     "metadata": {},
     "output_type": "execute_result"
    }
   ],
   "source": [
    "game.is_board_filled()"
   ]
  },
  {
   "cell_type": "code",
   "execution_count": null,
   "metadata": {},
   "outputs": [],
   "source": []
  }
 ],
 "metadata": {
  "kernelspec": {
   "display_name": "base",
   "language": "python",
   "name": "python3"
  },
  "language_info": {
   "codemirror_mode": {
    "name": "ipython",
    "version": 3
   },
   "file_extension": ".py",
   "mimetype": "text/x-python",
   "name": "python",
   "nbconvert_exporter": "python",
   "pygments_lexer": "ipython3",
   "version": "3.9.17"
  }
 },
 "nbformat": 4,
 "nbformat_minor": 2
}
