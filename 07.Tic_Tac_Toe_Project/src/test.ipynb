{
 "cells": [
  {
   "cell_type": "markdown",
   "metadata": {},
   "source": [
    "TicTacToe class:\n",
    "- [x] __init__\n",
    "- [] get_random_first_player\n",
    "- [x] fix_spot: mark board\n",
    "- [x] has_player_won(self,player)\n",
    "- [x] is_board_fill\n",
    "- [x] swap_player_turn\n",
    "- [x] show_board\n"
   ]
  },
  {
   "cell_type": "code",
   "execution_count": 1,
   "metadata": {},
   "outputs": [],
   "source": [
    "def init():\n",
    "    board = [' ']*10 #0th index is ignored\n",
    "    "
   ]
  },
  {
   "cell_type": "code",
   "execution_count": 101,
   "metadata": {},
   "outputs": [],
   "source": [
    "import random\n",
    "\n",
    "class TicTacToe():\n",
    "    def __init__(self):\n",
    "        self.empty_board()\n",
    "        self.initial_board = list(map(str, range(10)))\n",
    "        self.get_random_first_player()\n",
    "\n",
    "    def empty_board(self):\n",
    "        self.board = [' ']*10 #0th index is ignored.\n",
    "\n",
    "\n",
    "    def show_empty_board(self):\n",
    "        print(\"\\n\")\n",
    "        print(self.initial_board[1] + '|' + self.initial_board[2] + '|' + self.initial_board[3])\n",
    "        print('-'*6)\n",
    "        print(self.initial_board[4] + '|' + self.initial_board[5] + '|' + self.initial_board[6])\n",
    "        print('-'*6)\n",
    "        print(self.initial_board[7] + '|' + self.initial_board[8] + '|' + self.initial_board[9])\n",
    "\n",
    "    def show_board(self):\n",
    "        print(\"\\n\")\n",
    "        print(self.board[1] + '|' + self.board[2] + '|' + self.board[3])\n",
    "        print('-'*6)\n",
    "        print(self.board[4] + '|' + self.board[5] + '|' + self.board[6])\n",
    "        print('-'*6)\n",
    "        print(self.board[7] + '|' + self.board[8] + '|' + self.board[9])\n",
    "\n",
    "    def swap_player_turn(self):\n",
    "        self.player_turn = 'x' if self.player_turn == 'o' else 'o'\n",
    "\n",
    "    \n",
    "    def is_board_filled(self):\n",
    "        return ' ' not in self.board[1:]\n",
    "    \n",
    "    def is_cell_filled(self,cell):\n",
    "        return ' ' not in self.board[cell]\n",
    "    \n",
    "    def fix_spot(self,cell):\n",
    "        self.board[cell] = self.player_turn\n",
    "\n",
    "    def has_player_won(self,player):\n",
    "        win_combinations = [\n",
    "            [1,2,3], [4,5,6], [7,8,9], # rows\n",
    "            [1,4,7], [2,5,8], [3,6,9], #columns\n",
    "            [1,5,9], [3,5,7] #diagonals\n",
    "        ]\n",
    "\n",
    "        for comb in win_combinations:\n",
    "                if (\n",
    "                    self.board[comb[0]] == player and \n",
    "                    self.board[comb[1]] == player and \n",
    "                    self.board[comb[2]] == player\n",
    "                ):\n",
    "                    return True\n",
    "        \n",
    "        return False\n",
    "    \n",
    "    def get_random_first_player(self):\n",
    "        self.player_turn = random.choice(['x', 'o'])\n",
    "\n",
    "    \n",
    "    def play_game(self):\n",
    "        print(\"welcome to the game!\")\n",
    "        print(\"You can choose any number from the following board to fix your player's spot\")\n",
    "        self.show_empty_board()\n",
    "        while True:\n",
    "            print(self.player_turn)\n",
    "\n",
    "            cell = int(input(\"input the cell number: \"))\n",
    "            if self.is_cell_filled(cell):\n",
    "                print('the cell is already fixed.')\n",
    "                cell = int(input(\"input another cell number: \"))\n",
    "\n",
    "            self.fix_spot(cell)\n",
    "\n",
    "            self.show_board()\n",
    "\n",
    "            if self.has_player_won(self.player_turn):\n",
    "                print(f'{self.player_turn} has won!')\n",
    "                play_again = input('press any key to play again or q to quit: ')\n",
    "                if play_again == 'q':\n",
    "                    break\n",
    "                else:\n",
    "                    self.empty_board()\n",
    "                    return self.play_game()\n",
    "\n",
    "            if self.is_board_filled():\n",
    "                print('The board is filled. No winner.')\n",
    "                play_again = input('press any key to play again or q to quit: ')\n",
    "                if play_again == 'q':\n",
    "                    break\n",
    "                else:\n",
    "                    self.empty_board()\n",
    "                    return self.play_game()\n",
    "\n",
    "            self.swap_player_turn()"
   ]
  },
  {
   "cell_type": "code",
   "execution_count": 124,
   "metadata": {},
   "outputs": [
    {
     "data": {
      "text/plain": [
       "'o'"
      ]
     },
     "execution_count": 124,
     "metadata": {},
     "output_type": "execute_result"
    }
   ],
   "source": [
    "game = TicTacToe()\n",
    "game.player_turn"
   ]
  },
  {
   "cell_type": "markdown",
   "metadata": {},
   "source": []
  },
  {
   "cell_type": "code",
   "execution_count": 103,
   "metadata": {},
   "outputs": [
    {
     "name": "stdout",
     "output_type": "stream",
     "text": [
      "\n",
      "\n",
      " | | \n",
      "------\n",
      " | | \n",
      "------\n",
      " | | \n"
     ]
    }
   ],
   "source": [
    "game.show_board()"
   ]
  },
  {
   "cell_type": "code",
   "execution_count": 104,
   "metadata": {},
   "outputs": [
    {
     "data": {
      "text/plain": [
       "'o'"
      ]
     },
     "execution_count": 104,
     "metadata": {},
     "output_type": "execute_result"
    }
   ],
   "source": [
    "game.player_turn"
   ]
  },
  {
   "cell_type": "code",
   "execution_count": 99,
   "metadata": {},
   "outputs": [],
   "source": [
    "game.swap_player_turn()\n"
   ]
  },
  {
   "cell_type": "code",
   "execution_count": 100,
   "metadata": {},
   "outputs": [
    {
     "name": "stdout",
     "output_type": "stream",
     "text": [
      "welcome to the game!\n",
      "You can choose any number from the following board to fix your player's spot\n",
      "\n",
      "\n",
      "1|2|3\n",
      "------\n",
      "4|5|6\n",
      "------\n",
      "7|8|9\n",
      "o\n",
      "\n",
      "\n",
      "o| | \n",
      "------\n",
      " | | \n",
      "------\n",
      " | | \n",
      "x\n",
      "\n",
      "\n",
      "o|x| \n",
      "------\n",
      " | | \n",
      "------\n",
      " | | \n",
      "o\n",
      "\n",
      "\n",
      "o|x| \n",
      "------\n",
      " |o| \n",
      "------\n",
      " | | \n",
      "x\n",
      "\n",
      "\n",
      "o|x|x\n",
      "------\n",
      " |o| \n",
      "------\n",
      " | | \n",
      "o\n",
      "\n",
      "\n",
      "o|x|x\n",
      "------\n",
      " |o| \n",
      "------\n",
      " | |o\n",
      "o has won!\n"
     ]
    }
   ],
   "source": [
    "game.play_game()"
   ]
  },
  {
   "cell_type": "code",
   "execution_count": 47,
   "metadata": {},
   "outputs": [
    {
     "name": "stdout",
     "output_type": "stream",
     "text": [
      "\n",
      "\n",
      "o|x|o\n",
      "------\n",
      "o|x|o\n",
      "------\n",
      "o|x|o\n"
     ]
    }
   ],
   "source": [
    "game.show_board()"
   ]
  },
  {
   "cell_type": "code",
   "execution_count": 48,
   "metadata": {},
   "outputs": [
    {
     "data": {
      "text/plain": [
       "True"
      ]
     },
     "execution_count": 48,
     "metadata": {},
     "output_type": "execute_result"
    }
   ],
   "source": [
    "game.is_board_filled()"
   ]
  },
  {
   "cell_type": "code",
   "execution_count": 71,
   "metadata": {},
   "outputs": [
    {
     "data": {
      "text/plain": [
       "False"
      ]
     },
     "execution_count": 71,
     "metadata": {},
     "output_type": "execute_result"
    }
   ],
   "source": [
    "game.has_player_won('o')"
   ]
  },
  {
   "cell_type": "code",
   "execution_count": 74,
   "metadata": {},
   "outputs": [
    {
     "name": "stdout",
     "output_type": "stream",
     "text": [
      "1\n",
      "4\n",
      "7\n",
      "1\n",
      "2\n",
      "3\n",
      "1\n",
      "3\n",
      "2\n",
      "5\n",
      "8\n",
      "4\n",
      "5\n",
      "6\n",
      "5\n",
      "5\n",
      "3\n",
      "6\n",
      "9\n",
      "7\n",
      "8\n",
      "9\n",
      "9\n",
      "7\n"
     ]
    },
    {
     "data": {
      "text/plain": [
       "[None,\n",
       " None,\n",
       " None,\n",
       " None,\n",
       " None,\n",
       " None,\n",
       " None,\n",
       " None,\n",
       " None,\n",
       " None,\n",
       " None,\n",
       " None,\n",
       " None,\n",
       " None,\n",
       " None,\n",
       " None,\n",
       " None,\n",
       " None,\n",
       " None,\n",
       " None,\n",
       " None,\n",
       " None,\n",
       " None,\n",
       " None]"
      ]
     },
     "execution_count": 74,
     "metadata": {},
     "output_type": "execute_result"
    }
   ],
   "source": [
    "win_combinations = [\n",
    "            [1,2,3], [4,5,6], [7,8,9], # rows\n",
    "            [1,4,7], [2,5,8], [3,6,9], #columns\n",
    "            [1,5,9], [3,5,7] #diagonals\n",
    "        ]\n",
    "\n",
    "[print(comb[i]) for i in range(3) for comb in win_combinations]"
   ]
  },
  {
   "cell_type": "code",
   "execution_count": null,
   "metadata": {},
   "outputs": [],
   "source": []
  }
 ],
 "metadata": {
  "kernelspec": {
   "display_name": "base",
   "language": "python",
   "name": "python3"
  },
  "language_info": {
   "codemirror_mode": {
    "name": "ipython",
    "version": 3
   },
   "file_extension": ".py",
   "mimetype": "text/x-python",
   "name": "python",
   "nbconvert_exporter": "python",
   "pygments_lexer": "ipython3",
   "version": "3.9.17"
  }
 },
 "nbformat": 4,
 "nbformat_minor": 2
}
