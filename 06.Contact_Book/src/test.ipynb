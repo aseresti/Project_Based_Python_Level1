{
 "cells": [
  {
   "cell_type": "markdown",
   "metadata": {},
   "source": [
    "Contact Book:\n",
    "\n",
    "Methods based on CRUD ooperations:\n",
    "\n",
    "    - add_contact (create)\n",
    "    - view_contact (read)\n",
    "    - update_contact (Update)\n",
    "    - delete_contact (delete)"
   ]
  },
  {
   "cell_type": "markdown",
   "metadata": {},
   "source": [
    "cntacts structure example:\n",
    "\n",
    "{\n",
    "    'Ali': {\n",
    "        'phone': '123456789'\n",
    "        'email': 'ali@mail.com'\n",
    "    }\n",
    "    'Reza': {\n",
    "        'phone': '123456789'\n",
    "        'email': 'reza@mail.com'\n",
    "    }\n",
    "}"
   ]
  },
  {
   "cell_type": "markdown",
   "metadata": {},
   "source": [
    "defaultdict is a method that by defaults create a dictionary that any item added to that is considered as a the default data type ssigned to it.\n",
    "my_dict = defaultdict(list)"
   ]
  },
  {
   "cell_type": "code",
   "execution_count": 60,
   "metadata": {},
   "outputs": [],
   "source": [
    "from collections import defaultdict\n",
    "\n",
    "class ContactBook:\n",
    "    def __init__(self):\n",
    "        self.contacts = defaultdict(dict)\n",
    "\n",
    "    def add_contact(self, name, phone, email=None):\n",
    "        if name in self.contacts:\n",
    "            print(\"contact already existed\")\n",
    "            return\n",
    "        \n",
    "        self.contacts[name]['phone'] = phone\n",
    "        self.contacts[name]['email'] = email\n",
    "\n",
    "    def view_contacts(self):\n",
    "        for name, info in self.contacts.items():\n",
    "            print(f\"Name: {name}\")\n",
    "            print(f\"phone: {info['phone']}\")\n",
    "            print(f\"email: {info['email']}\")\n",
    "            print(\"-\"*20)\n",
    "\n",
    "    def update_contact(self, name, new_name=None, phone=None, email=None):\n",
    "        if name in self.contacts:\n",
    "            if phone:\n",
    "                self.contacts[name]['phone'] = phone\n",
    "            if email:\n",
    "                self.contacts[name]['email'] = email\n",
    "            if new_name:\n",
    "                self.contacts[new_name] = self.contacts[name]\n",
    "                del self.contacts[name]\n",
    "        else:\n",
    "            print(\"Contact not found!\")\n",
    "\n",
    "        print(\"Contact Updated Successfully\")\n",
    "        return\n",
    "\n",
    "\n",
    "    def delete_contact(self, name):\n",
    "        if name in self.contacts:\n",
    "            del self.contacts[name]\n",
    "            print(\"Contact Deleted Successfully\")\n",
    "        else:\n",
    "            print(\"Contact not found!\")"
   ]
  },
  {
   "cell_type": "code",
   "execution_count": 61,
   "metadata": {},
   "outputs": [],
   "source": [
    "book = ContactBook()"
   ]
  },
  {
   "cell_type": "code",
   "execution_count": 72,
   "metadata": {},
   "outputs": [],
   "source": [
    "book.add_contact('reza','123456789')"
   ]
  },
  {
   "cell_type": "code",
   "execution_count": 73,
   "metadata": {},
   "outputs": [],
   "source": [
    "book.add_contact('ali','999-999-999','ali@gmail.com')"
   ]
  },
  {
   "cell_type": "code",
   "execution_count": 74,
   "metadata": {},
   "outputs": [
    {
     "name": "stdout",
     "output_type": "stream",
     "text": [
      "Name: Reza\n",
      "phone: 123-456-789\n",
      "email: reza@yahoo.com\n",
      "--------------------\n",
      "Name: reza\n",
      "phone: 123456789\n",
      "email: None\n",
      "--------------------\n",
      "Name: ali\n",
      "phone: 999-999-999\n",
      "email: ali@gmail.com\n",
      "--------------------\n"
     ]
    }
   ],
   "source": [
    "book.view_contacts()"
   ]
  },
  {
   "cell_type": "code",
   "execution_count": 75,
   "metadata": {},
   "outputs": [
    {
     "name": "stdout",
     "output_type": "stream",
     "text": [
      "Contact not found!\n"
     ]
    }
   ],
   "source": [
    "book.delete_contact('')"
   ]
  },
  {
   "cell_type": "code",
   "execution_count": 76,
   "metadata": {},
   "outputs": [
    {
     "name": "stdout",
     "output_type": "stream",
     "text": [
      "Contact Deleted Successfully\n"
     ]
    }
   ],
   "source": [
    "book.delete_contact('ali')"
   ]
  },
  {
   "cell_type": "code",
   "execution_count": 77,
   "metadata": {},
   "outputs": [
    {
     "name": "stdout",
     "output_type": "stream",
     "text": [
      "Name: Reza\n",
      "phone: 123-456-789\n",
      "email: reza@yahoo.com\n",
      "--------------------\n",
      "Name: reza\n",
      "phone: 123456789\n",
      "email: None\n",
      "--------------------\n"
     ]
    }
   ],
   "source": [
    "book.view_contacts()"
   ]
  },
  {
   "cell_type": "code",
   "execution_count": 78,
   "metadata": {},
   "outputs": [
    {
     "name": "stdout",
     "output_type": "stream",
     "text": [
      "Contact Updated Successfully\n"
     ]
    }
   ],
   "source": [
    "book.update_contact('reza', 'Reza', email='reza@yahoo.com')"
   ]
  },
  {
   "cell_type": "code",
   "execution_count": 79,
   "metadata": {},
   "outputs": [
    {
     "name": "stdout",
     "output_type": "stream",
     "text": [
      "Name: Reza\n",
      "phone: 123456789\n",
      "email: reza@yahoo.com\n",
      "--------------------\n"
     ]
    }
   ],
   "source": [
    "book.view_contacts()"
   ]
  },
  {
   "cell_type": "code",
   "execution_count": 81,
   "metadata": {},
   "outputs": [
    {
     "name": "stdout",
     "output_type": "stream",
     "text": [
      "\n",
      "\n",
      "Contact Book Application\n",
      "1. Add_Contact\n",
      "2. View Contact\n",
      "3. Update Contact\n",
      "4. Delete Contact\n",
      "5. Quit\n",
      "\n",
      "\n",
      "Contact Book Application\n",
      "1. Add_Contact\n",
      "2. View Contact\n",
      "3. Update Contact\n",
      "4. Delete Contact\n",
      "5. Quit\n",
      "\n",
      "\n",
      "\n",
      "List of Contacts:\n",
      "Name: Ali\n",
      "phone: 999-999-999\n",
      "email: ali@gmail.com\n",
      "--------------------\n",
      "\n",
      "\n",
      "Contact Book Application\n",
      "1. Add_Contact\n",
      "2. View Contact\n",
      "3. Update Contact\n",
      "4. Delete Contact\n",
      "5. Quit\n",
      "\n",
      "\n",
      "Contact Book Application\n",
      "1. Add_Contact\n",
      "2. View Contact\n",
      "3. Update Contact\n",
      "4. Delete Contact\n",
      "5. Quit\n",
      "\n",
      "\n",
      "\n",
      "List of Contacts:\n",
      "Name: Ali\n",
      "phone: 999-999-999\n",
      "email: ali@gmail.com\n",
      "--------------------\n",
      "Name: Reza\n",
      "phone: 123-456-789\n",
      "email: reza2yahoo.com\n",
      "--------------------\n",
      "\n",
      "\n",
      "Contact Book Application\n",
      "1. Add_Contact\n",
      "2. View Contact\n",
      "3. Update Contact\n",
      "4. Delete Contact\n",
      "5. Quit\n"
     ]
    }
   ],
   "source": [
    "book = ContactBook()\n",
    "\n",
    "while True:\n",
    "    print('\\n\\nContact Book Application')\n",
    "    print('1. Add_Contact')\n",
    "    print('2. View Contact')\n",
    "    print('3. Update Contact')\n",
    "    print('4. Delete Contact')\n",
    "    print('5. Quit')\n",
    "\n",
    "    user_choice = input(\"Please choose an option: \")\n",
    "\n",
    "    if user_choice == '5':\n",
    "        break\n",
    "    elif user_choice == '1':\n",
    "        name = input('\\nEnter Contact Name: ')\n",
    "        phone = input('Enter Contact Phone: ')\n",
    "        email = input('Enter Contact email: ')\n",
    "\n",
    "        book.add_contact(name, phone, email)\n",
    "    elif user_choice == '2':\n",
    "        print(\"\\n\\n\\nList of Contacts:\")\n",
    "        book.view_contacts()\n",
    "\n",
    "    elif user_choice == '3':\n",
    "        name = input('\\nEnter Contact Name: ')\n",
    "        new_name = input('\\nEnter Contact New Name: ')\n",
    "        phone = input('Enter Contact Phone: ')\n",
    "        email = input('Enter Contact email: ')\n",
    "\n",
    "        book.update_contact(name, new_name, phone, email)\n",
    "    elif user_choice == '4':\n",
    "        name = input('\\nEnter Contact Name: ')\n",
    "\n",
    "        book.delete_contact(name)\n",
    "\n",
    "\n"
   ]
  },
  {
   "cell_type": "code",
   "execution_count": null,
   "metadata": {},
   "outputs": [],
   "source": []
  }
 ],
 "metadata": {
  "kernelspec": {
   "display_name": "base",
   "language": "python",
   "name": "python3"
  },
  "language_info": {
   "codemirror_mode": {
    "name": "ipython",
    "version": 3
   },
   "file_extension": ".py",
   "mimetype": "text/x-python",
   "name": "python",
   "nbconvert_exporter": "python",
   "pygments_lexer": "ipython3",
   "version": "3.9.17"
  }
 },
 "nbformat": 4,
 "nbformat_minor": 2
}
